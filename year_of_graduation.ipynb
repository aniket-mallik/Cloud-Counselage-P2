{
  "cells": [
    {
      "cell_type": "code",
      "execution_count": 1,
      "metadata": {
        "id": "1vjtJYnVjDxG",
        "outputId": "878742d3-a39d-4954-c2a9-151c9e7e69a0",
        "colab": {
          "base_uri": "https://localhost:8080/"
        }
      },
      "outputs": [
        {
          "output_type": "stream",
          "name": "stdout",
          "text": [
            "Year of Graduation column added and dataset updated.\n"
          ]
        }
      ],
      "source": [
        "import pandas as pd\n",
        "\n",
        "# Load the dataset\n",
        "input_file_path = \"Final Lead Data.csv\"\n",
        "lead_data = pd.read_csv(input_file_path)\n",
        "\n",
        "# Assuming 'Academic Year' contains numerical values (e.g., 1, 2, 3, 4)\n",
        "\n",
        "graduation_year_mapping = {\n",
        "    1: 2027,\n",
        "    2: 2026,\n",
        "    3: 2025,\n",
        "    4: 2024\n",
        "}\n",
        "\n",
        "# Create a new column 'Year of Graduation' based on the mapping\n",
        "lead_data['Year of Graduation'] = lead_data['Academic Year'].map(graduation_year_mapping)\n",
        "\n",
        "# Save the updated dataset\n",
        "output_file_path = \"Final Lead Data Updated.csv\"\n",
        "lead_data.to_csv(output_file_path, index=False)\n",
        "\n",
        "print(\"Year of Graduation column added and dataset updated.\")\n"
      ]
    }
  ],
  "metadata": {
    "kernelspec": {
      "display_name": "Python 3",
      "language": "python",
      "name": "python3"
    },
    "language_info": {
      "codemirror_mode": {
        "name": "ipython",
        "version": 3
      },
      "file_extension": ".py",
      "mimetype": "text/x-python",
      "name": "python",
      "nbconvert_exporter": "python",
      "pygments_lexer": "ipython3",
      "version": "3.11.9"
    },
    "colab": {
      "provenance": []
    }
  },
  "nbformat": 4,
  "nbformat_minor": 0
}